{
 "cells": [
  {
   "cell_type": "code",
   "execution_count": 1,
   "metadata": {},
   "outputs": [
    {
     "name": "stdout",
     "output_type": "stream",
     "text": [
      "trusted\n",
      "s\n"
     ]
    }
   ],
   "source": [
    "a = str(input(''))\n",
    "b = (len(a)//2)-1 \n",
    "c = b+2\n",
    "if len(a) % 2 == 0:\n",
    "    print (a[b:c])\n",
    "if len(a) % 2 != 0:\n",
    "    print(a[((len(a)-1)//2)])\n",
    "    "
   ]
  },
  {
   "cell_type": "code",
   "execution_count": 7,
   "metadata": {},
   "outputs": [
    {
     "name": "stdout",
     "output_type": "stream",
     "text": [
      "4\n",
      "4\n",
      "5\n",
      "4\n",
      "0\n",
      "17\n"
     ]
    }
   ],
   "source": [
    "a= int(input())\n",
    "s = 0\n",
    "while a!=0:\n",
    "    s= s+a\n",
    "    a=int(input())\n",
    "print(s)\n"
   ]
  },
  {
   "cell_type": "code",
   "execution_count": 123,
   "metadata": {},
   "outputs": [
    {
     "name": "stdout",
     "output_type": "stream",
     "text": [
      "Внимание, кто-то может остаться без пары!\n"
     ]
    }
   ],
   "source": [
    "boys = ['Peter', 'Alex', 'John', 'Arthur', 'Richard']\n",
    "abc_boys = sorted(boys)\n",
    "girls = ['Kate', 'Liza', 'Kira', 'Trisha']\n",
    "abc_girls = sorted(girls)\n",
    "tpl_boys = tuple(abc_boys)\n",
    "tpl_girls = tuple(abc_girls)\n",
    "boys_and_girls = zip(tpl_boys, tpl_girls)\n",
    "if len(tpl_boys) == len(tpl_girls):\n",
    "    print(('Идеальные пары'), list(boys_and_girls))\n",
    "elif len(tpl_boys) != len(tpl_girls):\n",
    "    print('Внимание, кто-то может остаться без пары!')\n"
   ]
  },
  {
   "cell_type": "code",
   "execution_count": 49,
   "metadata": {},
   "outputs": [
    {
     "name": "stdout",
     "output_type": "stream",
     "text": [
      "Внимание, кто-то может остаться без пары!\n"
     ]
    }
   ],
   "source": [
    "boys = ['Peter', 'Alex', 'John', 'Arthur', 'Richard', 'Michael']\n",
    "abc_boys = sorted(boys)\n",
    "girls = ['Kate', 'Liza', 'Kira', 'Emma', 'Trisha']\n",
    "abc_girls = sorted(girls)\n",
    "tpl_boys = tuple(abc_boys)\n",
    "tpl_girls = tuple(abc_girls)\n",
    "boys_and_girls = zip(tpl_boys, tpl_girls)\n",
    "if len(tpl_boys) == len(tpl_girls):\n",
    "    print(('Идеальные пары'), list(boys_and_girls))\n",
    "elif len(tpl_boys) != len(tpl_girls):\n",
    "    print('Внимание, кто-то может остаться без пары!')\n"
   ]
  },
  {
   "cell_type": "code",
   "execution_count": 122,
   "metadata": {},
   "outputs": [
    {
     "name": "stdout",
     "output_type": "stream",
     "text": [
      "Средняя температура в странах:\n",
      "Thailand 23.857142857142854 C\n",
      "Germany 13.799999999999997 C\n",
      "Russia 3.7142857142857166 C\n",
      "Poland 11.999999999999996 C\n"
     ]
    }
   ],
   "source": [
    "countries_temperature = [\n",
    "['Thailand', [75.2, 77, 78.8, 73.4, 68, 75.2, 77]],\n",
    "['Germany', [57.2, 55.4, 59, 59, 53.6]],\n",
    "['Russia', [35.6, 37.4, 39.2, 41, 42.8, 39.2, 35.6]],\n",
    "['Poland', [50, 50, 53.6, 57.2, 55.4, 55.4]]\n",
    "]\n",
    "print('Средняя температура в странах:')\n",
    "print('Thailand', ((sum(countries_temperature [0] [1])) / (len(countries_temperature[0] [1]))-32)/1.8,'C')\n",
    "print('Germany', ((sum(countries_temperature [1] [1])) / (len(countries_temperature [1] [1]))-32)/1.8,'C')\n",
    "print('Russia', ((sum(countries_temperature [2] [1])) / (len(countries_temperature [2] [1]))-32)/1.8,'C')\n",
    "print('Poland', ((sum(countries_temperature [3] [1])) / (len(countries_temperature [3] [1]))-32)/1.8,'C')\n"
   ]
  },
  {
   "cell_type": "code",
   "execution_count": null,
   "metadata": {},
   "outputs": [],
   "source": []
  }
 ],
 "metadata": {
  "kernelspec": {
   "display_name": "Python 3",
   "language": "python",
   "name": "python3"
  },
  "language_info": {
   "codemirror_mode": {
    "name": "ipython",
    "version": 3
   },
   "file_extension": ".py",
   "mimetype": "text/x-python",
   "name": "python",
   "nbconvert_exporter": "python",
   "pygments_lexer": "ipython3",
   "version": "3.7.6"
  }
 },
 "nbformat": 4,
 "nbformat_minor": 4
}
