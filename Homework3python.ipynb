{
 "cells": [
  {
   "cell_type": "code",
   "execution_count": 226,
   "metadata": {},
   "outputs": [
    {
     "name": "stdout",
     "output_type": "stream",
     "text": [
      "Результат: {98, 35, 15, 213, 54, 119}\n"
     ]
    }
   ],
   "source": [
    "ids = {'user1': [213, 213, 213, 15, 213],\n",
    "'user2': [54, 54, 119, 119, 119],\n",
    "'user3': [213, 98, 98, 35]\n",
    "}\n",
    "idsList = ids.items()\n",
    "temp = []\n",
    "for key,value in ids.items():\n",
    "    avalue = value\n",
    "    temp.append(avalue)\n",
    "tempList = list(temp)\n",
    "b = [x for xs in tempList for x in xs]\n",
    "print('Результат:', set(b))\n",
    "\n",
    "    \n",
    "\n",
    "\n",
    "\n",
    "\n",
    "\n",
    "\n",
    "\n",
    "\n",
    "    \n",
    "  \n",
    "    \n",
    "        \n",
    "    \n"
   ]
  },
  {
   "cell_type": "code",
   "execution_count": 354,
   "metadata": {},
   "outputs": [
    {
     "name": "stdout",
     "output_type": "stream",
     "text": [
      "Поисковых запросов, содержащих 3 слов(а): 57.14285714285714\n",
      "Поисковых запросов, содержащих 2 слов(а): 42.857142857142854\n"
     ]
    }
   ],
   "source": [
    "res = {}\n",
    "queries = [\n",
    "'смотреть сериалы онлайн',\n",
    "'новости спорта',\n",
    "'афиша кино',\n",
    "'курс доллара',\n",
    "'сериалы этим летом',\n",
    "'курс по питону',\n",
    "'сериалы про спорт',\n",
    "]\n",
    "for query in queries:\n",
    "    len_q = len(query.split())\n",
    "    if len_q not in res:\n",
    "        res[len_q] = 1\n",
    "    else:\n",
    "           res[len_q]+=1\n",
    "print('Поисковых запросов, содержащих 3 слов(а):',(res[3]/(res[3]+res[2]))*100)\n",
    "print('Поисковых запросов, содержащих 2 слов(а):',(res[2]/(res[3]+res[2]))*100)\n"
   ]
  },
  {
   "cell_type": "code",
   "execution_count": 377,
   "metadata": {},
   "outputs": [
    {
     "data": {
      "text/plain": [
       "{'vk': {'revenue': 103, 'cost': 98, 'ROI': 5},\n",
       " 'yandex': {'revenue': 179, 'cost': 153, 'ROI': 17},\n",
       " 'facebook': {'revenue': 103, 'cost': 110, 'ROI': -6},\n",
       " 'adwords': {'revenue': 35, 'cost': 34, 'ROI': 3},\n",
       " 'twitter': {'revenue': 11, 'cost': 24, 'ROI': -54}}"
      ]
     },
     "execution_count": 377,
     "metadata": {},
     "output_type": "execute_result"
    }
   ],
   "source": [
    "results = {\n",
    "'vk': {'revenue': 103, 'cost': 98},\n",
    "'yandex': {'revenue': 179, 'cost': 153},\n",
    "'facebook': {'revenue': 103, 'cost': 110},\n",
    "'adwords': {'revenue': 35, 'cost': 34},\n",
    "'twitter': {'revenue': 11, 'cost': 24},\n",
    "}\n",
    "\n",
    "for site, info in results.items():\n",
    "        info['ROI'] = round((info['revenue'] / info['cost'] - 1) * 100)\n",
    "results"
   ]
  },
  {
   "cell_type": "code",
   "execution_count": 435,
   "metadata": {},
   "outputs": [
    {
     "name": "stdout",
     "output_type": "stream",
     "text": [
      "yandex\n"
     ]
    }
   ],
   "source": [
    "stats = {'facebook': 55, 'yandex': 115, 'vk': 120, 'google': 99, 'email': 42, 'ok': 98}\n",
    "stats_1= list(sorted(stats.items(), reverse=True, key=lambda kv: kv [1]))\n",
    "print(stats_1[0][0])\n"
   ]
  },
  {
   "cell_type": "code",
   "execution_count": null,
   "metadata": {},
   "outputs": [],
   "source": []
  }
 ],
 "metadata": {
  "kernelspec": {
   "display_name": "Python 3",
   "language": "python",
   "name": "python3"
  },
  "language_info": {
   "codemirror_mode": {
    "name": "ipython",
    "version": 3
   },
   "file_extension": ".py",
   "mimetype": "text/x-python",
   "name": "python",
   "nbconvert_exporter": "python",
   "pygments_lexer": "ipython3",
   "version": "3.7.6"
  }
 },
 "nbformat": 4,
 "nbformat_minor": 4
}
